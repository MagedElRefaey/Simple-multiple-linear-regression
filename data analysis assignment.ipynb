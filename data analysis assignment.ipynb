{
 "cells": [
  {
   "cell_type": "code",
   "execution_count": 1,
   "id": "6d17a568",
   "metadata": {},
   "outputs": [],
   "source": [
    "import pandas as pd\n",
    "import matplotlib.pyplot as plt\n",
    "import numpy as np\n",
    "\n",
    "file2=\"assignment data analysis.csv\"\n",
    "df=pd.read_csv(file2)"
   ]
  },
  {
   "cell_type": "code",
   "execution_count": 2,
   "id": "cbb2dc36",
   "metadata": {},
   "outputs": [
    {
     "data": {
      "text/html": [
       "<div>\n",
       "<style scoped>\n",
       "    .dataframe tbody tr th:only-of-type {\n",
       "        vertical-align: middle;\n",
       "    }\n",
       "\n",
       "    .dataframe tbody tr th {\n",
       "        vertical-align: top;\n",
       "    }\n",
       "\n",
       "    .dataframe thead th {\n",
       "        text-align: right;\n",
       "    }\n",
       "</style>\n",
       "<table border=\"1\" class=\"dataframe\">\n",
       "  <thead>\n",
       "    <tr style=\"text-align: right;\">\n",
       "      <th></th>\n",
       "      <th>temp</th>\n",
       "      <th>length</th>\n",
       "    </tr>\n",
       "  </thead>\n",
       "  <tbody>\n",
       "    <tr>\n",
       "      <th>0</th>\n",
       "      <td>20</td>\n",
       "      <td>0.5</td>\n",
       "    </tr>\n",
       "    <tr>\n",
       "      <th>1</th>\n",
       "      <td>25</td>\n",
       "      <td>1.8</td>\n",
       "    </tr>\n",
       "    <tr>\n",
       "      <th>2</th>\n",
       "      <td>30</td>\n",
       "      <td>5.0</td>\n",
       "    </tr>\n",
       "    <tr>\n",
       "      <th>3</th>\n",
       "      <td>35</td>\n",
       "      <td>6.0</td>\n",
       "    </tr>\n",
       "    <tr>\n",
       "      <th>4</th>\n",
       "      <td>40</td>\n",
       "      <td>6.2</td>\n",
       "    </tr>\n",
       "  </tbody>\n",
       "</table>\n",
       "</div>"
      ],
      "text/plain": [
       "   temp  length\n",
       "0    20     0.5\n",
       "1    25     1.8\n",
       "2    30     5.0\n",
       "3    35     6.0\n",
       "4    40     6.2"
      ]
     },
     "execution_count": 2,
     "metadata": {},
     "output_type": "execute_result"
    }
   ],
   "source": [
    "df.head()"
   ]
  },
  {
   "cell_type": "code",
   "execution_count": 3,
   "id": "f819737f",
   "metadata": {},
   "outputs": [],
   "source": [
    "X=df['temp'].values\n",
    "Y=df['length'].values"
   ]
  },
  {
   "cell_type": "code",
   "execution_count": 4,
   "id": "bfa2b21a",
   "metadata": {},
   "outputs": [
    {
     "data": {
      "text/plain": [
       "numpy.ndarray"
      ]
     },
     "execution_count": 4,
     "metadata": {},
     "output_type": "execute_result"
    }
   ],
   "source": [
    "type(X)"
   ]
  },
  {
   "cell_type": "code",
   "execution_count": 5,
   "id": "2c7522c0",
   "metadata": {},
   "outputs": [
    {
     "data": {
      "text/plain": [
       "<matplotlib.collections.PathCollection at 0x1a44c767f10>"
      ]
     },
     "execution_count": 5,
     "metadata": {},
     "output_type": "execute_result"
    },
    {
     "data": {
      "image/png": "[encoded data removed]",
      "text/plain": [
       "<Figure size 432x288 with 1 Axes>"
      ]
     },
     "metadata": {
      "needs_background": "light"
     },
     "output_type": "display_data"
    }
   ],
   "source": [
    "plt.scatter(X,Y)"
   ]
  },
  {
   "cell_type": "code",
   "execution_count": 6,
   "id": "37bcdec0",
   "metadata": {},
   "outputs": [],
   "source": [
    "a=sum([(x-np.mean(X))*(y-np.mean(Y))for x,y in zip(X,Y)])/sum([(x-np.mean(X))**2 for x in X])\n",
    "b=np.mean(Y)-a*np.mean(X)"
   ]
  },
  {
   "cell_type": "code",
   "execution_count": 7,
   "id": "5630f418",
   "metadata": {},
   "outputs": [
    {
     "data": {
      "text/plain": [
       "0.21406060606060606"
      ]
     },
     "execution_count": 7,
     "metadata": {},
     "output_type": "execute_result"
    }
   ],
   "source": [
    "a"
   ]
  },
  {
   "cell_type": "code",
   "execution_count": 8,
   "id": "f84b43c1",
   "metadata": {},
   "outputs": [
    {
     "data": {
      "text/plain": [
       "-2.717575757575757"
      ]
     },
     "execution_count": 8,
     "metadata": {},
     "output_type": "execute_result"
    }
   ],
   "source": [
    "b"
   ]
  },
  {
   "cell_type": "code",
   "execution_count": 9,
   "id": "b752dec6",
   "metadata": {},
   "outputs": [],
   "source": [
    "yhat=lambda x: a*x+b"
   ]
  },
  {
   "cell_type": "code",
   "execution_count": 10,
   "id": "bf5aedcf",
   "metadata": {},
   "outputs": [
    {
     "data": {
      "text/plain": [
       "<matplotlib.collections.PathCollection at 0x1a44cf287c0>"
      ]
     },
     "execution_count": 10,
     "metadata": {},
     "output_type": "execute_result"
    },
    {
     "data": {
      "image/png": "[encoded data removed]",
      "text/plain": [
       "<Figure size 432x288 with 1 Axes>"
      ]
     },
     "metadata": {
      "needs_background": "light"
     },
     "output_type": "display_data"
    }
   ],
   "source": [
    "plt.scatter(X,Y)\n",
    "plt.plot([X.min(),X.max()],[yhat(X.min()),yhat(X.max())],color='r')\n",
    "plt.scatter(X.mean(),Y.mean(),marker='D',c='r')"
   ]
  },
  {
   "cell_type": "markdown",
   "id": "f14c962f",
   "metadata": {},
   "source": [
    "# the simple linear regression ends here"
   ]
  },
  {
   "cell_type": "code",
   "execution_count": null,
   "id": "c27ab069",
   "metadata": {},
   "outputs": [],
   "source": []
  },
  {
   "cell_type": "markdown",
   "id": "f007a6df",
   "metadata": {},
   "source": [
    "# trial to build multiple linear regression from scratch"
   ]
  },
  {
   "cell_type": "code",
   "execution_count": 11,
   "id": "50d28c91",
   "metadata": {},
   "outputs": [
    {
     "data": {
      "text/plain": [
       "array([ 0.5,  1.8,  5. ,  6. ,  6.2,  6.5,  7.8,  9.4,  9.7, 10.9])"
      ]
     },
     "execution_count": 11,
     "metadata": {},
     "output_type": "execute_result"
    }
   ],
   "source": [
    "array1=np.array(Y)\n",
    "array2=np.array(X)\n",
    "array1.transpose()"
   ]
  },
  {
   "cell_type": "code",
   "execution_count": 12,
   "id": "6719216e",
   "metadata": {},
   "outputs": [],
   "source": [
    "temp_matrix=[[20**0,20,20**2,20**3],[25**0,25,25**2,25**3],[30**0,30,30**2,30**3],[35**0,35,35**2,35**3],[40**0,40,40**2,40**3],[45**0,45,45**2,45**3],[50**0,50,50**2,50**3],[55**0,55,55**2,55**3],[60**0,60,60**2,60**3],[65**0,65,65**2,65**3]]"
   ]
  },
  {
   "cell_type": "code",
   "execution_count": 13,
   "id": "b868af30",
   "metadata": {},
   "outputs": [],
   "source": [
    "length_matrix=np.array(Y)"
   ]
  },
  {
   "cell_type": "code",
   "execution_count": 14,
   "id": "2ea15fb6",
   "metadata": {},
   "outputs": [
    {
     "data": {
      "text/plain": [
       "[[1, 20, 400, 8000],\n",
       " [1, 25, 625, 15625],\n",
       " [1, 30, 900, 27000],\n",
       " [1, 35, 1225, 42875],\n",
       " [1, 40, 1600, 64000],\n",
       " [1, 45, 2025, 91125],\n",
       " [1, 50, 2500, 125000],\n",
       " [1, 55, 3025, 166375],\n",
       " [1, 60, 3600, 216000],\n",
       " [1, 65, 4225, 274625]]"
      ]
     },
     "execution_count": 14,
     "metadata": {},
     "output_type": "execute_result"
    }
   ],
   "source": [
    "temp_matrix"
   ]
  },
  {
   "cell_type": "code",
   "execution_count": 15,
   "id": "7f5b302b",
   "metadata": {},
   "outputs": [],
   "source": [
    "temp_matrix1=np.array(temp_matrix)"
   ]
  },
  {
   "cell_type": "code",
   "execution_count": 16,
   "id": "bc3bc222",
   "metadata": {},
   "outputs": [
    {
     "data": {
      "text/plain": [
       "array([[     1,     20,    400,   8000],\n",
       "       [     1,     25,    625,  15625],\n",
       "       [     1,     30,    900,  27000],\n",
       "       [     1,     35,   1225,  42875],\n",
       "       [     1,     40,   1600,  64000],\n",
       "       [     1,     45,   2025,  91125],\n",
       "       [     1,     50,   2500, 125000],\n",
       "       [     1,     55,   3025, 166375],\n",
       "       [     1,     60,   3600, 216000],\n",
       "       [     1,     65,   4225, 274625]])"
      ]
     },
     "execution_count": 16,
     "metadata": {},
     "output_type": "execute_result"
    }
   ],
   "source": [
    "temp_matrix1"
   ]
  },
  {
   "cell_type": "code",
   "execution_count": 17,
   "id": "02d76233",
   "metadata": {},
   "outputs": [
    {
     "data": {
      "text/plain": [
       "array([[     1,      1,      1,      1,      1,      1,      1,      1,\n",
       "             1,      1],\n",
       "       [    20,     25,     30,     35,     40,     45,     50,     55,\n",
       "            60,     65],\n",
       "       [   400,    625,    900,   1225,   1600,   2025,   2500,   3025,\n",
       "          3600,   4225],\n",
       "       [  8000,  15625,  27000,  42875,  64000,  91125, 125000, 166375,\n",
       "        216000, 274625]])"
      ]
     },
     "execution_count": 17,
     "metadata": {},
     "output_type": "execute_result"
    }
   ],
   "source": [
    "temp_matrix1.T"
   ]
  },
  {
   "cell_type": "code",
   "execution_count": 18,
   "id": "b840f8ae",
   "metadata": {},
   "outputs": [],
   "source": [
    "matrix_multiply_x2=[[0,0,0,0,0,0,0,0,0,0],[0,0,0,0,0,0,0,0,0,0],[0,0,0,0,0,0,0,0,0,0],[0,0,0,0,0,0,0,0,0,0],[0,0,0,0,0,0,0,0,0,0],[0,0,0,0,0,0,0,0,0,0],[0,0,0,0,0,0,0,0,0,0],[0,0,0,0,0,0,0,0,0,0],[0,0,0,0,0,0,0,0,0,0],[0,0,0,0,0,0,0,0,0,0]]"
   ]
  },
  {
   "cell_type": "code",
   "execution_count": null,
   "id": "2e92c81e",
   "metadata": {},
   "outputs": [],
   "source": []
  },
  {
   "cell_type": "code",
   "execution_count": 19,
   "id": "12aadb48",
   "metadata": {},
   "outputs": [
    {
     "name": "stderr",
     "output_type": "stream",
     "text": [
      "C:\\Users\\ItShop\\AppData\\Local\\Temp/ipykernel_6540/865585435.py:4: RuntimeWarning: overflow encountered in long_scalars\n",
      "  matrix_multiply_x2[i][j]+=temp_matrix[i][k]*temp_matrix1.T[k][j]\n"
     ]
    }
   ],
   "source": [
    "for i in range(len(temp_matrix)):\n",
    "    for j in range(len(temp_matrix1.T[0])):\n",
    "        for k in range (len(temp_matrix1.T)):  \n",
    "            matrix_multiply_x2[i][j]+=temp_matrix[i][k]*temp_matrix1.T[k][j]"
   ]
  },
  {
   "cell_type": "code",
   "execution_count": 20,
   "id": "2199dede",
   "metadata": {},
   "outputs": [],
   "source": [
    "xx=np.dot(temp_matrix1,temp_matrix1.T)"
   ]
  },
  {
   "cell_type": "code",
   "execution_count": 21,
   "id": "fe8a2645",
   "metadata": {},
   "outputs": [
    {
     "ename": "NameError",
     "evalue": "name 'matrix_multiply_x' is not defined",
     "output_type": "error",
     "traceback": [
      "\u001b[1;31m---------------------------------------------------------------------------\u001b[0m",
      "\u001b[1;31mNameError\u001b[0m                                 Traceback (most recent call last)",
      "\u001b[1;32m~\\AppData\\Local\\Temp/ipykernel_6540/1702098704.py\u001b[0m in \u001b[0;36m<module>\u001b[1;34m\u001b[0m\n\u001b[1;32m----> 1\u001b[1;33m \u001b[0mxx\u001b[0m\u001b[1;33m==\u001b[0m\u001b[0mmatrix_multiply_x\u001b[0m\u001b[1;33m\u001b[0m\u001b[1;33m\u001b[0m\u001b[0m\n\u001b[0m",
      "\u001b[1;31mNameError\u001b[0m: name 'matrix_multiply_x' is not defined"
     ]
    }
   ],
   "source": [
    "xx==matrix_multiply_x\n"
   ]
  },
  {
   "cell_type": "code",
   "execution_count": null,
   "id": "b6adb5cf",
   "metadata": {},
   "outputs": [],
   "source": []
  },
  {
   "cell_type": "code",
   "execution_count": null,
   "id": "a52bf874",
   "metadata": {},
   "outputs": [],
   "source": [
    "matrix_multiply_x2"
   ]
  },
  {
   "cell_type": "code",
   "execution_count": null,
   "id": "5e335772",
   "metadata": {},
   "outputs": [],
   "source": [
    "matrix_multiply_x11=np.array(matrix_multiply_x2)"
   ]
  },
  {
   "cell_type": "code",
   "execution_count": null,
   "id": "866081f2",
   "metadata": {},
   "outputs": [],
   "source": [
    "matrix_multiply_x"
   ]
  },
  {
   "cell_type": "code",
   "execution_count": null,
   "id": "1d284625",
   "metadata": {},
   "outputs": [],
   "source": [
    "matrix_multiply_x_inverse=np.linalg.inv(matrix_multiply_x2)"
   ]
  },
  {
   "cell_type": "code",
   "execution_count": null,
   "id": "1745b798",
   "metadata": {},
   "outputs": [],
   "source": [
    "matrix_multiply_x_inversesdfsd=np.linalg.pinv(matrix_multiply_x)"
   ]
  },
  {
   "cell_type": "code",
   "execution_count": null,
   "id": "5f0272ef",
   "metadata": {},
   "outputs": [],
   "source": [
    "matrix_multiply_x_inverse"
   ]
  },
  {
   "cell_type": "code",
   "execution_count": null,
   "id": "3666dcb3",
   "metadata": {},
   "outputs": [],
   "source": [
    "matrix_multiply_x_inversesdfsd"
   ]
  },
  {
   "cell_type": "code",
   "execution_count": null,
   "id": "36c9cc0c",
   "metadata": {},
   "outputs": [],
   "source": [
    "matrix_multiply_x_dfsdf=np.dot(temp_matrix1.T,array1)\n",
    "#matrix_multiply_x_dfsdfaaaaaaa\n",
    "matrix_multiply_x_dfsdf\n",
    "print(temp_matrix1.T)\n",
    "print(array1)\n",
    "matrix_multiply_x_dfsdf"
   ]
  },
  {
   "cell_type": "code",
   "execution_count": null,
   "id": "a57fcdd5",
   "metadata": {},
   "outputs": [],
   "source": [
    "matrix_multiply_x_dfsdfaaaaaaa=np.dot(temp_matrix1.T,length_matrix)\n",
    "matrix_multiply_x_dfsdfaaaaaaa"
   ]
  },
  {
   "cell_type": "code",
   "execution_count": null,
   "id": "98550777",
   "metadata": {},
   "outputs": [],
   "source": [
    "aaaaa=np.dot(matrix_multiply_x_dfsdfaaaaaaa,matrix_multiply_x_inverse)"
   ]
  },
  {
   "cell_type": "code",
   "execution_count": null,
   "id": "10218ba4",
   "metadata": {},
   "outputs": [],
   "source": [
    "aaaaa"
   ]
  },
  {
   "cell_type": "code",
   "execution_count": null,
   "id": "5d87049a",
   "metadata": {},
   "outputs": [],
   "source": [
    "result = [[sum(a * b for a, b in zip(matrix_multiply_x_inverse, length_matrix))\n",
    "                        for length_matrix in zip(*length_matrix)]\n",
    "                                for matrix_multiply_x_inverse in matrix_multiply_x_inverse]"
   ]
  },
  {
   "cell_type": "code",
   "execution_count": null,
   "id": "525fa13b",
   "metadata": {},
   "outputs": [],
   "source": [
    "matrix_multiply_x_dfsdasdaf=np.dot(matrix_multiply_x_dfsdf,length_matrix)"
   ]
  },
  {
   "cell_type": "code",
   "execution_count": null,
   "id": "fe99602a",
   "metadata": {},
   "outputs": [],
   "source": [
    "matrix_multiply_x_dfsdasdaf"
   ]
  },
  {
   "cell_type": "code",
   "execution_count": null,
   "id": "6068e80c",
   "metadata": {},
   "outputs": [],
   "source": [
    "list_reg66=[]"
   ]
  },
  {
   "cell_type": "code",
   "execution_count": null,
   "id": "e429ac97",
   "metadata": {},
   "outputs": [],
   "source": [
    "for i in range (20,66,1):\n",
    "    list_reg66.append((multiply_of_x_y[0])+((i)*matrix_multiply_x_dfsdasdaf[1])+((i**2)+matrix_multiply_x_dfsdasdaf[2])+((i**3)*matrix_multiply_x_dfsdasdaf[3]))"
   ]
  },
  {
   "cell_type": "code",
   "execution_count": null,
   "id": "4721ef56",
   "metadata": {},
   "outputs": [],
   "source": [
    "list_reg66"
   ]
  },
  {
   "cell_type": "code",
   "execution_count": null,
   "id": "9143de04",
   "metadata": {},
   "outputs": [],
   "source": [
    "for i in range(len(matrix_multiply_x_inverse)):\n",
    "    for j in range(len(matrix_multiply_x_dfsdf[0])):\n",
    "        for k in range (len(matrix_multiply_x_dfsdf)):  \n",
    "            matrix_multiply_x[i][j]+=matrix_multiply_x_dfsdf[i][k]*matrix_multiply_x_inverse[k][j]"
   ]
  },
  {
   "cell_type": "code",
   "execution_count": null,
   "id": "7ea606a8",
   "metadata": {},
   "outputs": [],
   "source": []
  },
  {
   "cell_type": "code",
   "execution_count": null,
   "id": "64198d37",
   "metadata": {},
   "outputs": [],
   "source": [
    "matrix_multiply_x_y_new=[0,0,0,0]"
   ]
  },
  {
   "cell_type": "code",
   "execution_count": null,
   "id": "24f47894",
   "metadata": {},
   "outputs": [],
   "source": [
    "matrix_multiply_x_y_new=np.dot(matrix_multiply_x_inverse,length_matrix)"
   ]
  },
  {
   "cell_type": "code",
   "execution_count": null,
   "id": "5d1ba873",
   "metadata": {},
   "outputs": [],
   "source": [
    "matrix_multiply_x_y_new"
   ]
  },
  {
   "cell_type": "code",
   "execution_count": null,
   "id": "3aeb9bad",
   "metadata": {},
   "outputs": [],
   "source": [
    "matrix_multiply_x_y_new_1=np.dot(matrix_multiply_x_inverse,matrix_multiply_x_y_new)"
   ]
  },
  {
   "cell_type": "code",
   "execution_count": null,
   "id": "a4e46cd5",
   "metadata": {},
   "outputs": [],
   "source": [
    "matrix_multiply_x_trans= temp_matrix1.T\n",
    "matrix_multiply_x_trans"
   ]
  },
  {
   "cell_type": "code",
   "execution_count": null,
   "id": "63b58ec2",
   "metadata": {},
   "outputs": [],
   "source": [
    "matrix_multiply_x_trans"
   ]
  },
  {
   "cell_type": "code",
   "execution_count": null,
   "id": "8260a9d3",
   "metadata": {},
   "outputs": [],
   "source": [
    "matrix_multiply_x"
   ]
  },
  {
   "cell_type": "code",
   "execution_count": null,
   "id": "9326345e",
   "metadata": {},
   "outputs": [],
   "source": [
    "matrix_multiply_x_inverse=np.linalg.pinv(matrix_multiply_x_trans)"
   ]
  },
  {
   "cell_type": "code",
   "execution_count": null,
   "id": "997ea6b7",
   "metadata": {},
   "outputs": [],
   "source": [
    "matrix_multiply_x_inverse"
   ]
  },
  {
   "cell_type": "code",
   "execution_count": null,
   "id": "48e8a352",
   "metadata": {},
   "outputs": [],
   "source": [
    "TMatrix=temp_matrix1"
   ]
  },
  {
   "cell_type": "code",
   "execution_count": null,
   "id": "036d9dc2",
   "metadata": {},
   "outputs": [],
   "source": [
    "new_list1=[]\n",
    "new_list2=[]"
   ]
  },
  {
   "cell_type": "code",
   "execution_count": null,
   "id": "ba357997",
   "metadata": {},
   "outputs": [],
   "source": [
    "multiply_of_x_y=np.dot(np.linalg.inv(np.dot(matrix_multiply_x_trans, temp_matrix1)), np.dot(matrix_multiply_x_trans, length_matrix))"
   ]
  },
  {
   "cell_type": "code",
   "execution_count": null,
   "id": "9ef782db",
   "metadata": {},
   "outputs": [],
   "source": [
    "multiply_of_x_y"
   ]
  },
  {
   "cell_type": "code",
   "execution_count": null,
   "id": "d7f0712c",
   "metadata": {},
   "outputs": [],
   "source": [
    "for i in range(20,66):\n",
    "    count=0\n",
    "    new_list1.append(i)\n",
    "    list_arr=np.array(new_list1)\n",
    "    power=1\n",
    "    \n",
    "#     new_list2.append(((multiply_of_x_y[0])+((new_list1**power)*multiply_of_x_y[1])+((new_list1**(power))*multiply_of_x_y[2])+((new_list1**(power))*multiply_of_x_y[3])))\n",
    "#     power+=1\n",
    "#     if (power==4):\n",
    "#         break"
   ]
  },
  {
   "cell_type": "code",
   "execution_count": null,
   "id": "1c46551d",
   "metadata": {},
   "outputs": [],
   "source": [
    "new_list2"
   ]
  },
  {
   "cell_type": "code",
   "execution_count": null,
   "id": "7e76c91f",
   "metadata": {},
   "outputs": [],
   "source": [
    "list_arr"
   ]
  },
  {
   "cell_type": "code",
   "execution_count": null,
   "id": "6c995819",
   "metadata": {},
   "outputs": [],
   "source": [
    "list_reg=[multiply_of_x_y[0]+ ((i) * (multiply_of_x_y[1]))+((i **2) *(multiply_of_x_y[2])+ ((i **3)) *(multiply_of_x_y[3])) for i in new_list1]"
   ]
  },
  {
   "cell_type": "code",
   "execution_count": null,
   "id": "4daae3d0",
   "metadata": {},
   "outputs": [],
   "source": [
    "list_reg1=[]"
   ]
  },
  {
   "cell_type": "code",
   "execution_count": null,
   "id": "d0fe9a91",
   "metadata": {},
   "outputs": [],
   "source": [
    "zzzzzzzzzz=multiply_of_x_y.transpose()\n",
    "zzzzzzzzzz"
   ]
  },
  {
   "cell_type": "code",
   "execution_count": null,
   "id": "8e12c6a1",
   "metadata": {},
   "outputs": [],
   "source": [
    "for i in  (array2):\n",
    "    x=((zzzzzzzzzz[0])+((i) * zzzzzzzzzz[1])+((i**2)*zzzzzzzzzz[2])+((i**3)*zzzzzzzzzz[3]))\n",
    "    list_reg1.append(x)\n",
    "    print(i)"
   ]
  },
  {
   "cell_type": "code",
   "execution_count": null,
   "id": "afc2d5a0",
   "metadata": {},
   "outputs": [],
   "source": [
    "nnnn=[]"
   ]
  },
  {
   "cell_type": "code",
   "execution_count": null,
   "id": "4c59277b",
   "metadata": {},
   "outputs": [],
   "source": [
    "c=[]\n",
    "f=[]"
   ]
  },
  {
   "cell_type": "code",
   "execution_count": null,
   "id": "b138bc8a",
   "metadata": {},
   "outputs": [],
   "source": [
    "ll=range(20,66,1)\n",
    "ll_2=np.array(ll)\n",
    "n_=[]"
   ]
  },
  {
   "cell_type": "code",
   "execution_count": null,
   "id": "7aa81863",
   "metadata": {},
   "outputs": [],
   "source": [
    "ll_2.shape\n"
   ]
  },
  {
   "cell_type": "code",
   "execution_count": null,
   "id": "086e1ac4",
   "metadata": {},
   "outputs": [],
   "source": [
    "r= np.arange(20,46).reshape(46,)\n",
    "r1 = np.arange(zzzzzzzzzz).reshape(1, 2)"
   ]
  },
  {
   "cell_type": "code",
   "execution_count": null,
   "id": "e2e0f730",
   "metadata": {},
   "outputs": [],
   "source": [
    "#for i in range(len(ll)):\n",
    "    \n",
    "m_=((zzzzzzzzzz[0])+((ll) * zzzzzzzzzz[1])+((ll**2)*zzzzzzzzzz[1])+ ((ll**3) * zzzzzzzzzz[3]))\n",
    "nn=m_**2\n",
    "\n",
    "#n_.append(m_)"
   ]
  },
  {
   "cell_type": "code",
   "execution_count": null,
   "id": "f5c0082c",
   "metadata": {},
   "outputs": [],
   "source": [
    "a_=[]\n",
    "b_=[]\n",
    "c_=[]\n",
    "full_list=[]\n",
    "xxa=0\n",
    "x1 = [j**2 for j in ll]+zzzzzzzzzz[2]\n",
    "x2=  [j**3 for j in ll]+zzzzzzzzzz[3]\n",
    "x3=  [j for j in ll]+zzzzzzzzzz[1]\n",
    "x4=zzzzzzzzzz[0]\n",
    "s7=sum(x1,x2)\n",
    "s0=sum(s7,x3)\n",
    "s1=sum(s0,x4)\n",
    "s1\n",
    "for i in range(20,66):\n",
    "    a=i*multiply_of_x_y[1]\n",
    "    k=(i**2)*multiply_of_x_y[2]\n",
    "    z=(i**3)*multiply_of_x_y[3]\n",
    "    xxa+=a+k+z+multiply_of_x_y[0]\n",
    "    full_list.append(xxa)\n",
    "    c_.append(a)\n",
    "    a_.append(k)\n",
    "    b_.append(z)\n",
    "# for i in range(20,66):\n",
    "#     a+=a+"
   ]
  },
  {
   "cell_type": "code",
   "execution_count": null,
   "id": "c8e71201",
   "metadata": {},
   "outputs": [],
   "source": [
    "full_list\n",
    "len(full_list)"
   ]
  },
  {
   "cell_type": "code",
   "execution_count": null,
   "id": "fbcc0c2f",
   "metadata": {},
   "outputs": [],
   "source": [
    "c_\n",
    "len(c_)"
   ]
  },
  {
   "cell_type": "code",
   "execution_count": null,
   "id": "8e026d04",
   "metadata": {},
   "outputs": [],
   "source": [
    "a_\n",
    "len(a_)"
   ]
  },
  {
   "cell_type": "code",
   "execution_count": null,
   "id": "a43d4eff",
   "metadata": {},
   "outputs": [],
   "source": [
    "b_\n",
    "len(b_)"
   ]
  },
  {
   "cell_type": "code",
   "execution_count": null,
   "id": "fb1059cb",
   "metadata": {},
   "outputs": [],
   "source": [
    "n_"
   ]
  },
  {
   "cell_type": "code",
   "execution_count": null,
   "id": "5648fb9e",
   "metadata": {},
   "outputs": [],
   "source": [
    "m_\n",
    "nn"
   ]
  },
  {
   "cell_type": "code",
   "execution_count": null,
   "id": "e2a031a8",
   "metadata": {},
   "outputs": [],
   "source": [
    "for i in range (len(ll)):\n",
    "    a=((zzzzzzzzzz[0])+((ll[i]) * zzzzzzzzzz[1])+((ll[i]**2)*zzzzzzzzzz[2])+((ll[i]**3)*zzzzzzzzzz[3]))\n",
    "    c.append(a)\n",
    "    if (i==65):\n",
    "        break\n",
    "for i in range(20,25):\n",
    "    a=((zzzzzzzzzz[0])+((i)*zzzzzzzzzz[1])+((i**2)*zzzzzzzzzz[2])+((i**3)*zzzzzzzzzz[3]))\n",
    "    f.append(a)\n",
    "    if (i == 25):\n",
    "        break\n",
    "x_12=((zzzzzzzzzz[0])+((20) * zzzzzzzzzz[1])+((20**2)*zzzzzzzzzz[2])+((20**3)*zzzzzzzzzz[3]))\n",
    "x_13=((zzzzzzzzzz[0])+((21) * zzzzzzzzzz[1])+((21**2)*zzzzzzzzzz[2])+((21**3)*zzzzzzzzzz[3]))\n",
    "x_14=((zzzzzzzzzz[0])+((22) * zzzzzzzzzz[1])+((22**2)*zzzzzzzzzz[2])+((22**3)*zzzzzzzzzz[3]))\n",
    "x_15=((zzzzzzzzzz[0])+((23) * zzzzzzzzzz[1])+((23**2)*zzzzzzzzzz[2])+((23**3)*zzzzzzzzzz[3]))\n",
    "x_16=((zzzzzzzzzz[0])+((24) * zzzzzzzzzz[1])+((24**2)*zzzzzzzzzz[2])+((24**3)*zzzzzzzzzz[3]))\n",
    "x_17=((zzzzzzzzzz[0])+((25) * zzzzzzzzzz[1])+((25**2)*zzzzzzzzzz[2])+((25**3)*zzzzzzzzzz[3]))\n",
    "x_18=((zzzzzzzzzz[0])+((26) * zzzzzzzzzz[1])+((26**2)*zzzzzzzzzz[2])+((26**3)*zzzzzzzzzz[3]))\n",
    "x_19=((zzzzzzzzzz[0])+((27) * zzzzzzzzzz[1])+((27**2)*zzzzzzzzzz[2])+((27**3)*zzzzzzzzzz[3]))\n",
    "x_20=((zzzzzzzzzz[0])+((28) * zzzzzzzzzz[1])+((28**2)*zzzzzzzzzz[2])+((28**3)*zzzzzzzzzz[3]))\n",
    "x_21=((zzzzzzzzzz[0])+((29) * zzzzzzzzzz[1])+((29**2)*zzzzzzzzzz[2])+((29**3)*zzzzzzzzzz[3]))\n",
    "x_22=((zzzzzzzzzz[0])+((30)* zzzzzzzzzz[1])+((30 **2)*zzzzzzzzzz[2])+((30**3)*zzzzzzzzzz[3]))\n",
    "x_22=((zzzzzzzzzz[0])+((30)* zzzzzzzzzz[1])+((30 **2)*zzzzzzzzzz[2])+((30**3)*zzzzzzzzzz[3]))\n",
    "x_22=((zzzzzzzzzz[0])+((30)* zzzzzzzzzz[1])+((30 **2)*zzzzzzzzzz[2])+((30**3)*zzzzzzzzzz[3]))\n",
    "x_22=((zzzzzzzzzz[0])+((30)* zzzzzzzzzz[1])+((30 **2)*zzzzzzzzzz[2])+((30**3)*zzzzzzzzzz[3]))\n",
    "x_22=((zzzzzzzzzz[0])+((30)* zzzzzzzzzz[1])+((30 **2)*zzzzzzzzzz[2])+((30**3)*zzzzzzzzzz[3]))\n",
    "x_fo=((zzzzzzzzzz[0])+((35) * zzzzzzzzzz[1])+((35**2)*zzzzzzzzzz[2])+((35**3)*zzzzzzzzzz[3]))\n",
    "x_fi=((zzzzzzzzzz[0])+((40) * zzzzzzzzzz[1])+((40**2)*zzzzzzzzzz[2])+((40**3)*zzzzzzzzzz[3]))\n",
    "x_si=((zzzzzzzzzz[0])+((45) * zzzzzzzzzz[1])+((45**2)*zzzzzzzzzz[2])+((45**3)*zzzzzzzzzz[3]))\n",
    "x_se=((zzzzzzzzzz[0])+((50) * zzzzzzzzzz[1])+((50**2)*zzzzzzzzzz[2])+((50**3)*zzzzzzzzzz[3]))\n",
    "x_ei=((zzzzzzzzzz[0])+((55) * zzzzzzzzzz[1])+((55**2)*zzzzzzzzzz[2])+((55**3)*zzzzzzzzzz[3]))\n",
    "x_ni=((zzzzzzzzzz[0])+((60) * zzzzzzzzzz[1])+((60**2)*zzzzzzzzzz[2])+((60**3)*zzzzzzzzzz[3]))\n",
    "x_te=((zzzzzzzzzz[0])+((65) * zzzzzzzzzz[1])+((65**2)*zzzzzzzzzz[2])+((65**3)*zzzzzzzzzz[3]))\n",
    "x_s=((zzzzzzzzzz[0])+((21) * zzzzzzzzzz[1])+((22**2)*zzzzzzzzzz[2])+((22**3)*zzzzzzzzzz[3]))\n",
    "\n",
    "nnnn=(x_f,x_s,x_t,x_fo,x_fi,x_si,x_se,x_ei,x_ni,x_te)"
   ]
  },
  {
   "cell_type": "code",
   "execution_count": null,
   "id": "7b0a0014",
   "metadata": {},
   "outputs": [],
   "source": [
    "c"
   ]
  },
  {
   "cell_type": "code",
   "execution_count": null,
   "id": "905690d6",
   "metadata": {},
   "outputs": [],
   "source": [
    "f"
   ]
  },
  {
   "cell_type": "code",
   "execution_count": null,
   "id": "00d663a9",
   "metadata": {},
   "outputs": [],
   "source": [
    "len(c)"
   ]
  },
  {
   "cell_type": "code",
   "execution_count": null,
   "id": "6be16c3f",
   "metadata": {},
   "outputs": [],
   "source": [
    "list_reg1"
   ]
  },
  {
   "cell_type": "code",
   "execution_count": null,
   "id": "90963f87",
   "metadata": {},
   "outputs": [],
   "source": [
    "list_reg2=np.array(list_reg1)"
   ]
  },
  {
   "cell_type": "code",
   "execution_count": null,
   "id": "f8ce228d",
   "metadata": {},
   "outputs": [],
   "source": [
    "len(list_reg1)"
   ]
  },
  {
   "cell_type": "code",
   "execution_count": null,
   "id": "4b3a67a0",
   "metadata": {},
   "outputs": [],
   "source": [
    "plt.scatter(X,Y)\n",
    "plt.plot(range(20,66),full_list, color = 'g')\n",
    "#plt.scatter(X.mean(), Y.mean(), marker = 'D', c = 'r')"
   ]
  },
  {
   "cell_type": "code",
   "execution_count": null,
   "id": "a469dfc8",
   "metadata": {},
   "outputs": [],
   "source": [
    "plt.scatter(X,Y)\n",
    "plt.plot(range(20,66),list_reg66, color = 'g')"
   ]
  },
  {
   "cell_type": "code",
   "execution_count": null,
   "id": "9c5c7aa9",
   "metadata": {},
   "outputs": [],
   "source": []
  },
  {
   "cell_type": "code",
   "execution_count": null,
   "id": "55cd069e",
   "metadata": {},
   "outputs": [],
   "source": [
    "list_reg"
   ]
  },
  {
   "cell_type": "code",
   "execution_count": null,
   "id": "4ab6c707",
   "metadata": {},
   "outputs": [],
   "source": []
  },
  {
   "cell_type": "code",
   "execution_count": null,
   "id": "bf4b5069",
   "metadata": {},
   "outputs": [],
   "source": [
    "len(list_reg)"
   ]
  },
  {
   "cell_type": "code",
   "execution_count": null,
   "id": "180dd32e",
   "metadata": {},
   "outputs": [],
   "source": [
    "new_list1"
   ]
  },
  {
   "cell_type": "code",
   "execution_count": null,
   "id": "c1f76c0d",
   "metadata": {},
   "outputs": [],
   "source": [
    "list_arr=np.array(new_list1)"
   ]
  },
  {
   "cell_type": "code",
   "execution_count": null,
   "id": "8b13e987",
   "metadata": {},
   "outputs": [],
   "source": []
  },
  {
   "cell_type": "code",
   "execution_count": null,
   "id": "9b39133a",
   "metadata": {},
   "outputs": [],
   "source": [
    "plt.plot()"
   ]
  },
  {
   "cell_type": "code",
   "execution_count": null,
   "id": "eb2336af",
   "metadata": {},
   "outputs": [],
   "source": [
    "w=np.dot(np.linalg.inv(np.dot(temp_matrix1.T,temp_matrix1)),np.dot(temp_matrix1,length_matrix))"
   ]
  },
  {
   "cell_type": "code",
   "execution_count": null,
   "id": "ddec7bf4",
   "metadata": {},
   "outputs": [],
   "source": [
    "for i in range(len(matrix_multiply_x_inverse)):\n",
    "    for j in range(len(length_matrix[0])):\n",
    "        for k in range (len(length_matrix)):  \n",
    "            matrix_multiply_x+=temp_matrix[i][k]*length_matrix.T[k][j]"
   ]
  },
  {
   "cell_type": "code",
   "execution_count": null,
   "id": "ae897b9a",
   "metadata": {},
   "outputs": [],
   "source": [
    "matrix_multiply_of_x_y=np.dot(matrix_multiply_x_trans,length_matrix)"
   ]
  },
  {
   "cell_type": "code",
   "execution_count": null,
   "id": "06c9a192",
   "metadata": {},
   "outputs": [],
   "source": [
    "matrix_multiply_of_x_y"
   ]
  },
  {
   "cell_type": "code",
   "execution_count": null,
   "id": "927d42bd",
   "metadata": {},
   "outputs": [],
   "source": [
    "lenghth_matrix"
   ]
  },
  {
   "cell_type": "code",
   "execution_count": null,
   "id": "3a50df5e",
   "metadata": {},
   "outputs": [],
   "source": [
    "array1"
   ]
  },
  {
   "cell_type": "code",
   "execution_count": null,
   "id": "7c2e7adb",
   "metadata": {},
   "outputs": [],
   "source": [
    "matrix_x=np.array([[20,25,30,35,40,45,50,55,60,65]])\n",
    "matrix_y=np.array([0.5,1.8,5,6,6.2,6.5,7.8,9.4,9.7,10.9])"
   ]
  },
  {
   "cell_type": "code",
   "execution_count": null,
   "id": "54d712f1",
   "metadata": {},
   "outputs": [],
   "source": [
    "matrix_transpose_of_x=[[0,0,0,0],[0,0,0,0],[0,0,0,0],[0,0,0,0],[0,0,0,0],[0,0,0,0],[0,0,0,0],[0,0,0,0],[0,0,0,0],[0,0,0,0]]"
   ]
  },
  {
   "cell_type": "code",
   "execution_count": null,
   "id": "13bd2a88",
   "metadata": {},
   "outputs": [],
   "source": [
    "matrix_transpose_of_x=np.array(matrix_transpose_of_x)"
   ]
  },
  {
   "cell_type": "code",
   "execution_count": null,
   "id": "743e9601",
   "metadata": {},
   "outputs": [],
   "source": [
    "matrix_transpose_of_x"
   ]
  },
  {
   "cell_type": "code",
   "execution_count": null,
   "id": "bc7548fa",
   "metadata": {},
   "outputs": [],
   "source": [
    "matrix_xtran=matrix_x.T"
   ]
  },
  {
   "cell_type": "code",
   "execution_count": null,
   "id": "57441e65",
   "metadata": {},
   "outputs": [],
   "source": [
    "matrix_xtran"
   ]
  },
  {
   "cell_type": "code",
   "execution_count": null,
   "id": "cd965772",
   "metadata": {},
   "outputs": [],
   "source": [
    "ones=np.ones((temp_matrix1.T.shape[0],1))"
   ]
  },
  {
   "cell_type": "code",
   "execution_count": null,
   "id": "823c1097",
   "metadata": {},
   "outputs": [],
   "source": [
    "ones"
   ]
  },
  {
   "cell_type": "code",
   "execution_count": null,
   "id": "725050f6",
   "metadata": {},
   "outputs": [],
   "source": [
    "ones1=np.append(ones,temp_matrix1.T,axis=1)"
   ]
  },
  {
   "cell_type": "code",
   "execution_count": null,
   "id": "fdff37e1",
   "metadata": {},
   "outputs": [],
   "source": [
    "ones1"
   ]
  },
  {
   "cell_type": "code",
   "execution_count": null,
   "id": "393f1ef5",
   "metadata": {},
   "outputs": [],
   "source": [
    "w=np.dot(np.linalg.pinv(np.dot(temp_matrix1,ones1)),np.dot(temp_matrix1,length_matrix))"
   ]
  },
  {
   "cell_type": "code",
   "execution_count": null,
   "id": "75229a22",
   "metadata": {},
   "outputs": [],
   "source": []
  },
  {
   "cell_type": "markdown",
   "id": "db32f524",
   "metadata": {},
   "source": [
    "# multiple linear regression starts here"
   ]
  },
  {
   "cell_type": "code",
   "execution_count": 22,
   "id": "ffa8cd3d",
   "metadata": {},
   "outputs": [],
   "source": [
    "from sklearn.preprocessing import PolynomialFeatures"
   ]
  },
  {
   "cell_type": "code",
   "execution_count": 23,
   "id": "aacb641c",
   "metadata": {},
   "outputs": [],
   "source": [
    "from sklearn.linear_model import LinearRegression"
   ]
  },
  {
   "cell_type": "code",
   "execution_count": 24,
   "id": "a5de8e5f",
   "metadata": {},
   "outputs": [],
   "source": [
    "degree_of_equation=PolynomialFeatures(degree=3)"
   ]
  },
  {
   "cell_type": "code",
   "execution_count": 25,
   "id": "49702fa8",
   "metadata": {},
   "outputs": [],
   "source": [
    "# reshaping data fof temp rso we can fit it "
   ]
  },
  {
   "cell_type": "code",
   "execution_count": 26,
   "id": "0a48836f",
   "metadata": {},
   "outputs": [],
   "source": [
    "X_temp = df['temp'].values.reshape(-1, 1)"
   ]
  },
  {
   "cell_type": "code",
   "execution_count": 27,
   "id": "63899b7b",
   "metadata": {},
   "outputs": [],
   "source": [
    "#fitting the data so we can apply it"
   ]
  },
  {
   "cell_type": "code",
   "execution_count": 28,
   "id": "ec3801a3",
   "metadata": {},
   "outputs": [],
   "source": [
    "Data_fit_temprature=degree_of_equation.fit_transform(X_temp)"
   ]
  },
  {
   "cell_type": "code",
   "execution_count": 29,
   "id": "fabf0147",
   "metadata": {},
   "outputs": [],
   "source": [
    "#PLOTTING THE x_axis"
   ]
  },
  {
   "cell_type": "code",
   "execution_count": 54,
   "id": "b526ce14",
   "metadata": {},
   "outputs": [],
   "source": [
    "x_axis=np.arange(20,65,5)"
   ]
  },
  {
   "cell_type": "code",
   "execution_count": 55,
   "id": "d503d086",
   "metadata": {},
   "outputs": [],
   "source": [
    "#reshaping the x_axis so it could fit the plot"
   ]
  },
  {
   "cell_type": "code",
   "execution_count": 56,
   "id": "4072373f",
   "metadata": {},
   "outputs": [],
   "source": [
    "x_axis_reshaped=x_axis.reshape(len(x_axis),1)"
   ]
  },
  {
   "cell_type": "code",
   "execution_count": 57,
   "id": "809c4f9c",
   "metadata": {},
   "outputs": [],
   "source": [
    "#importing linear regression"
   ]
  },
  {
   "cell_type": "code",
   "execution_count": 58,
   "id": "cb479eb6",
   "metadata": {},
   "outputs": [],
   "source": [
    "Data_fit_temprature_length=LinearRegression()"
   ]
  },
  {
   "cell_type": "code",
   "execution_count": 59,
   "id": "3f38271d",
   "metadata": {},
   "outputs": [],
   "source": [
    "# fitting the data of tempratue and lenghth together"
   ]
  },
  {
   "cell_type": "code",
   "execution_count": 60,
   "id": "e652d830",
   "metadata": {},
   "outputs": [],
   "source": [
    "fit_data_plot=Data_fit_temprature_length.fit(Data_fit_temprature,Y)"
   ]
  },
  {
   "cell_type": "code",
   "execution_count": 63,
   "id": "4e32a9a4",
   "metadata": {},
   "outputs": [
    {
     "data": {
      "image/png": "[encoded data removed]",
      "text/plain": [
       "<Figure size 432x288 with 1 Axes>"
      ]
     },
     "metadata": {
      "needs_background": "light"
     },
     "output_type": "display_data"
    }
   ],
   "source": [
    "plt.plot(X_temp,Y,color='green')\n",
    "plt.scatter(x_axis_reshaped,fit_data_plot.predict(degree_of_equation.fit_transform(x_axis_reshaped)),color='red')\n",
    "plt.title(\"degree 3 equation\")\n",
    "plt.xlabel(\"temprature values\")\n",
    "plt.ylabel(\"length values\")\n",
    "plt.show()"
   ]
  },
  {
   "cell_type": "markdown",
   "id": "8759842d",
   "metadata": {},
   "source": [
    "# repeating the same steps with degree 2"
   ]
  },
  {
   "cell_type": "code",
   "execution_count": 82,
   "id": "632e7be5",
   "metadata": {},
   "outputs": [],
   "source": [
    "degree_of_equation_2=PolynomialFeatures(degree=2)"
   ]
  },
  {
   "cell_type": "code",
   "execution_count": 83,
   "id": "4135be41",
   "metadata": {},
   "outputs": [],
   "source": [
    "Data_fit_temprature_deg2=degree_of_equation_2.fit_transform(X_temp)"
   ]
  },
  {
   "cell_type": "code",
   "execution_count": 84,
   "id": "454b23f2",
   "metadata": {},
   "outputs": [],
   "source": [
    "Data_fit_temprature_length_deg2=LinearRegression()"
   ]
  },
  {
   "cell_type": "code",
   "execution_count": 85,
   "id": "d244321b",
   "metadata": {},
   "outputs": [],
   "source": [
    "fit_data_plot_deg2=Data_fit_temprature_length_deg2.fit(Data_fit_temprature_deg2,Y)"
   ]
  },
  {
   "cell_type": "code",
   "execution_count": null,
   "id": "ef9082c8",
   "metadata": {},
   "outputs": [],
   "source": []
  },
  {
   "cell_type": "code",
   "execution_count": 86,
   "id": "04ab44ae",
   "metadata": {},
   "outputs": [
    {
     "data": {
      "image/png": "[encoded data removed]",
      "text/plain": [
       "<Figure size 432x288 with 1 Axes>"
      ]
     },
     "metadata": {
      "needs_background": "light"
     },
     "output_type": "display_data"
    }
   ],
   "source": [
    "plt.plot(X_temp,Y,color='green')\n",
    "plt.scatter(x_axis_reshaped,fit_data_plot_deg2.predict(degree_of_equation_2.fit_transform(x_axis_reshaped)),color='red')\n",
    "plt.title(\"degree 2 equation\")\n",
    "plt.xlabel(\"temprature values\")\n",
    "plt.ylabel(\"length values\")\n",
    "plt.show()"
   ]
  },
  {
   "cell_type": "markdown",
   "id": "dede8b46",
   "metadata": {},
   "source": [
    "# repeating the same steps with degree 5"
   ]
  },
  {
   "cell_type": "code",
   "execution_count": 92,
   "id": "77fb56c8",
   "metadata": {},
   "outputs": [],
   "source": [
    "degree_of_equation_5=PolynomialFeatures(degree=5)"
   ]
  },
  {
   "cell_type": "code",
   "execution_count": 93,
   "id": "b56f4d68",
   "metadata": {},
   "outputs": [],
   "source": [
    "Data_fit_temprature_deg5=degree_of_equation_5.fit_transform(X_temp)"
   ]
  },
  {
   "cell_type": "code",
   "execution_count": 94,
   "id": "94017c27",
   "metadata": {},
   "outputs": [],
   "source": [
    "Data_fit_temprature_length_deg5=LinearRegression()"
   ]
  },
  {
   "cell_type": "code",
   "execution_count": 95,
   "id": "d387f9fd",
   "metadata": {},
   "outputs": [],
   "source": [
    "fit_data_plot_deg5=Data_fit_temprature_length_deg5.fit(Data_fit_temprature_deg5,Y)"
   ]
  },
  {
   "cell_type": "code",
   "execution_count": 96,
   "id": "048f88cd",
   "metadata": {},
   "outputs": [
    {
     "data": {
      "image/png": "[encoded data removed]",
      "text/plain": [
       "<Figure size 432x288 with 1 Axes>"
      ]
     },
     "metadata": {
      "needs_background": "light"
     },
     "output_type": "display_data"
    }
   ],
   "source": [
    "plt.plot(X_temp,Y,color='green')\n",
    "plt.scatter(x_axis_reshaped,fit_data_plot_deg5.predict(degree_of_equation_5.fit_transform(x_axis_reshaped)),color='red')\n",
    "plt.title(\"degree 5 equation\")\n",
    "plt.xlabel(\"temprature values\")\n",
    "plt.ylabel(\"length values\")\n",
    "plt.show()"
   ]
  },
  {
   "cell_type": "code",
   "execution_count": null,
   "id": "5e5b742e",
   "metadata": {},
   "outputs": [],
   "source": []
  },
  {
   "cell_type": "markdown",
   "id": "0701d53d",
   "metadata": {},
   "source": [
    "# repeating the same steps with degree 8"
   ]
  },
  {
   "cell_type": "code",
   "execution_count": 108,
   "id": "d18451dd",
   "metadata": {},
   "outputs": [],
   "source": [
    "degree_of_equation_8=PolynomialFeatures(degree=8)"
   ]
  },
  {
   "cell_type": "code",
   "execution_count": 109,
   "id": "ffd70bd9",
   "metadata": {},
   "outputs": [],
   "source": [
    "Data_fit_temprature_deg8=degree_of_equation_8.fit_transform(X_temp)"
   ]
  },
  {
   "cell_type": "code",
   "execution_count": 110,
   "id": "ed324d6f",
   "metadata": {},
   "outputs": [],
   "source": [
    "Data_fit_temprature_length_deg8=LinearRegression()"
   ]
  },
  {
   "cell_type": "code",
   "execution_count": 111,
   "id": "67569f42",
   "metadata": {},
   "outputs": [],
   "source": [
    "fit_data_plot_deg8=Data_fit_temprature_length_deg8.fit(Data_fit_temprature_deg8,Y)"
   ]
  },
  {
   "cell_type": "code",
   "execution_count": 112,
   "id": "c910b59f",
   "metadata": {},
   "outputs": [
    {
     "data": {
      "image/png": "[encoded data removed]",
      "text/plain": [
       "<Figure size 432x288 with 1 Axes>"
      ]
     },
     "metadata": {
      "needs_background": "light"
     },
     "output_type": "display_data"
    }
   ],
   "source": [
    "plt.plot(X_temp,Y,color='green')\n",
    "plt.scatter(x_axis_reshaped,fit_data_plot_deg8.predict(degree_of_equation_8.fit_transform(x_axis_reshaped)),color='red')\n",
    "plt.title(\"degree 8 equation\")\n",
    "plt.xlabel(\"temprature values\")\n",
    "plt.ylabel(\"length values\")\n",
    "plt.show()"
   ]
  },
  {
   "cell_type": "code",
   "execution_count": null,
   "id": "b5532822",
   "metadata": {},
   "outputs": [],
   "source": []
  },
  {
   "cell_type": "code",
   "execution_count": null,
   "id": "ef1c1c92",
   "metadata": {},
   "outputs": [],
   "source": []
  },
  {
   "cell_type": "code",
   "execution_count": 113,
   "id": "985dd521",
   "metadata": {},
   "outputs": [],
   "source": [
    "# we can see clearly that when we increase the degree we get closer to the values so with increasing the values we realize that the effect of coefficient is increasing "
   ]
  },
  {
   "cell_type": "code",
   "execution_count": null,
   "id": "27321682",
   "metadata": {},
   "outputs": [],
   "source": []
  },
  {
   "cell_type": "code",
   "execution_count": 114,
   "id": "54eae2cf",
   "metadata": {},
   "outputs": [],
   "source": [
    "# you will see that there is section of trials from scratch , i left it as i was trying with the normal equation and i reahced very close values,\n",
    "#so hope it would be graded"
   ]
  },
  {
   "cell_type": "code",
   "execution_count": null,
   "id": "8b99c153",
   "metadata": {},
   "outputs": [],
   "source": []
  },
  {
   "cell_type": "markdown",
   "id": "4c78f70e",
   "metadata": {},
   "source": [
    "Abdeen Elsayed Ahmed Abdeen ElRefaey\n",
    "\n",
    "Id: 19106051"
   ]
  },
  {
   "cell_type": "code",
   "execution_count": null,
   "id": "84293cbf",
   "metadata": {},
   "outputs": [],
   "source": []
  }
 ],
 "metadata": {
  "kernelspec": {
   "display_name": "Python 3 (ipykernel)",
   "language": "python",
   "name": "python3"
  },
  "language_info": {
   "codemirror_mode": {
    "name": "ipython",
    "version": 3
   },
   "file_extension": ".py",
   "mimetype": "text/x-python",
   "name": "python",
   "nbconvert_exporter": "python",
   "pygments_lexer": "ipython3",
   "version": "3.9.7"
  }
 },
 "nbformat": 4,
 "nbformat_minor": 5
}
